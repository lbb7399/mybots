{
 "cells": [
  {
   "cell_type": "code",
   "execution_count": 1,
   "id": "ca451438",
   "metadata": {
    "ExecuteTime": {
     "end_time": "2023-02-13T02:56:26.657099Z",
     "start_time": "2023-02-13T02:56:26.654656Z"
    }
   },
   "outputs": [],
   "source": [
    "import random\n"
   ]
  },
  {
   "cell_type": "code",
   "execution_count": 15,
   "id": "bba171fa",
   "metadata": {
    "ExecuteTime": {
     "end_time": "2023-02-13T03:10:58.625497Z",
     "start_time": "2023-02-13T03:10:58.616976Z"
    }
   },
   "outputs": [
    {
     "name": "stdout",
     "output_type": "stream",
     "text": [
      "2\n",
      "3\n",
      "5\n",
      "['1', 0]\n",
      "['1', '2']\n",
      "[0, ['1', '2'], ['11', '12', '21'], ['111', '112', '121', '122', '211']]\n",
      "[2, [2, 1], [2, 2, 1], [2, 1, 1, 2, 2]]\n"
     ]
    }
   ],
   "source": [
    "gens = 4\n",
    "\n",
    "branching = [0]*(gens)\n",
    "numChildren = random.randint(1,2)\n",
    "branching[0] = numChildren\n",
    "\n",
    "branchNames = [0]*(gens)\n",
    "\n",
    "\n",
    "for i in range(gens-1):\n",
    "    if isinstance(branching[i], int):\n",
    "        childrenthisgen = branching[i]\n",
    "    else:\n",
    "        childrenthisgen = sum(branching[i])\n",
    "    \n",
    "    print(childrenthisgen)\n",
    "    childrenPerGen = [0]*childrenthisgen\n",
    "    for j in range(childrenthisgen):\n",
    "        numChildren = random.randint(1,2)\n",
    "        childrenPerGen[j]=numChildren\n",
    "    #print(j)       \n",
    "\n",
    "\n",
    "    branching[i+1] = childrenPerGen          \n",
    "\n",
    "\n",
    "\n",
    "\n",
    "\n",
    "\n",
    "for i, parents in enumerate(branching[:(gens-1)]):\n",
    "\n",
    "    \n",
    "    if isinstance(parents, int):\n",
    "        namesChildrenthisgen = [0]*parents\n",
    "        #childrenPerGen = [0]*parents\n",
    "        for j in range(parents):\n",
    "            \n",
    "            if i == 0:\n",
    "                namesChildrenthisgen[j] = str(j+1)\n",
    "            else:\n",
    "                \n",
    "                namesChildrenthisgen[j] = f\"{branchNames[i][0]}{j+1}\"\n",
    "            print(namesChildrenthisgen)    \n",
    "            #numChildren = random.randint(1,2)\n",
    "            #childrenPerGen[j]=numChildren\n",
    "\n",
    "\n",
    "    else:\n",
    "        namesChildrenthisgen = [0]*sum(parents)\n",
    "        #childrenPerGen = [0]*sum(parents)\n",
    "        count = 0\n",
    "        for j, children in enumerate(parents):\n",
    "            \n",
    "            for k in range(children):\n",
    "                namesChildrenthisgen[count] = branchNames[i][j] + str(k+1)\n",
    "                \n",
    "                #numChildren = random.randint(1,2)\n",
    "                #childrenPerGen[count]=numChildren\n",
    "                count += 1\n",
    "            \n",
    "\n",
    "\n",
    "    #branching[i+1] = childrenPerGen          \n",
    "    branchNames[i+1] = namesChildrenthisgen\n",
    "                \n",
    "print(branchNames)\n",
    "print(branching)\n",
    "                \n",
    "                        "
   ]
  },
  {
   "cell_type": "code",
   "execution_count": 6,
   "id": "8e835105",
   "metadata": {
    "ExecuteTime": {
     "end_time": "2023-02-13T21:50:09.531011Z",
     "start_time": "2023-02-13T21:50:09.522285Z"
    }
   },
   "outputs": [
    {
     "name": "stdout",
     "output_type": "stream",
     "text": [
      "['b', 'c']\n"
     ]
    },
    {
     "ename": "ValueError",
     "evalue": "list.remove(x): x not in list",
     "output_type": "error",
     "traceback": [
      "\u001b[0;31m---------------------------------------------------------------------------\u001b[0m",
      "\u001b[0;31mValueError\u001b[0m                                Traceback (most recent call last)",
      "\u001b[0;32m/var/folders/b1/bh3kf3zj17j6w_73h9s16t9c0000gn/T/ipykernel_83298/349589528.py\u001b[0m in \u001b[0;36m<module>\u001b[0;34m\u001b[0m\n\u001b[1;32m      2\u001b[0m \u001b[0mlist\u001b[0m\u001b[0;34m.\u001b[0m\u001b[0mremove\u001b[0m\u001b[0;34m(\u001b[0m\u001b[0;34m\"a\"\u001b[0m\u001b[0;34m)\u001b[0m\u001b[0;34m\u001b[0m\u001b[0;34m\u001b[0m\u001b[0m\n\u001b[1;32m      3\u001b[0m \u001b[0mprint\u001b[0m\u001b[0;34m(\u001b[0m\u001b[0mlist\u001b[0m\u001b[0;34m)\u001b[0m\u001b[0;34m\u001b[0m\u001b[0;34m\u001b[0m\u001b[0m\n\u001b[0;32m----> 4\u001b[0;31m \u001b[0mlist\u001b[0m\u001b[0;34m.\u001b[0m\u001b[0mremove\u001b[0m\u001b[0;34m(\u001b[0m\u001b[0;34m\"a\"\u001b[0m\u001b[0;34m)\u001b[0m\u001b[0;34m\u001b[0m\u001b[0;34m\u001b[0m\u001b[0m\n\u001b[0m",
      "\u001b[0;31mValueError\u001b[0m: list.remove(x): x not in list"
     ]
    }
   ],
   "source": [
    "list = [\"a\",\"b\",\"c\"]\n",
    "list.remove(\"a\")\n",
    "print(list)\n",
    "list.remove(\"a\")"
   ]
  },
  {
   "cell_type": "code",
   "execution_count": 4,
   "id": "fd927d92",
   "metadata": {
    "ExecuteTime": {
     "end_time": "2023-02-14T23:45:36.443691Z",
     "start_time": "2023-02-14T23:45:36.441062Z"
    }
   },
   "outputs": [],
   "source": [
    "x = 6\n",
    "if x > 5 and x > 4):\n",
    "    print(\"True and True\")"
   ]
  },
  {
   "cell_type": "code",
   "execution_count": 5,
   "id": "b0757613",
   "metadata": {
    "ExecuteTime": {
     "end_time": "2023-02-25T20:17:54.962612Z",
     "start_time": "2023-02-25T20:17:54.957756Z"
    }
   },
   "outputs": [
    {
     "data": {
      "text/plain": [
       "0"
      ]
     },
     "execution_count": 5,
     "metadata": {},
     "output_type": "execute_result"
    }
   ],
   "source": [
    "lis = [1,2,1]\n",
    "\n",
    "res = lis.count(1)\n",
    "\n",
    "#print(res)\n",
    "\n",
    "lis.index(1)\n"
   ]
  },
  {
   "cell_type": "code",
   "execution_count": 6,
   "id": "0f65ed74",
   "metadata": {
    "ExecuteTime": {
     "end_time": "2023-02-26T02:07:48.028767Z",
     "start_time": "2023-02-26T02:07:48.019542Z"
    }
   },
   "outputs": [],
   "source": [
    "import random\n"
   ]
  },
  {
   "cell_type": "code",
   "execution_count": 7,
   "id": "c0de0512",
   "metadata": {
    "ExecuteTime": {
     "end_time": "2023-02-26T17:54:08.179840Z",
     "start_time": "2023-02-26T17:54:08.174269Z"
    }
   },
   "outputs": [
    {
     "name": "stdout",
     "output_type": "stream",
     "text": [
      "Generator(PCG64)\n",
      "[[[0 7 6]\n",
      "  [4 4 8]\n",
      "  [0 6 2]]\n",
      "\n",
      " [[0 5 9]\n",
      "  [7 7 7]\n",
      "  [7 5 1]]\n",
      "\n",
      " [[8 4 5]\n",
      "  [3 1 9]\n",
      "  [7 6 4]]]\n",
      "[[[8 5 4]\n",
      "  [4 2 0]\n",
      "  [5 8 0]]\n",
      "\n",
      " [[8 8 2]\n",
      "  [6 1 7]\n",
      "  [7 3 0]]\n",
      "\n",
      " [[9 4 8]\n",
      "  [6 7 7]\n",
      "  [1 3 4]]]\n"
     ]
    }
   ],
   "source": [
    "import numpy as np\n",
    "rng = np.random.default_rng(seed=42)\n",
    "print(rng)\n",
    "rints = rng.integers(low=0, high=10, size=(3,3,3))\n",
    "rints1 = rng.integers(low=0, high=10, size=(3,3,3))\n",
    "print(rints)\n",
    "print(rints1)\n"
   ]
  },
  {
   "cell_type": "code",
   "execution_count": 7,
   "id": "17d1f282",
   "metadata": {
    "ExecuteTime": {
     "end_time": "2023-03-09T22:33:27.573735Z",
     "start_time": "2023-03-09T22:33:27.569731Z"
    }
   },
   "outputs": [
    {
     "name": "stdout",
     "output_type": "stream",
     "text": [
      "4 success\n",
      "9 success\n"
     ]
    }
   ],
   "source": [
    "count = 1\n",
    "for i in range(11):\n",
    "\n",
    "    if count == 5:\n",
    "        print(i,\"success\")\n",
    "    if count < 5:\n",
    "        count += 1\n",
    "    else:\n",
    "        count = 1"
   ]
  },
  {
   "cell_type": "code",
   "execution_count": 2,
   "id": "9fa5991c",
   "metadata": {
    "ExecuteTime": {
     "end_time": "2023-03-12T23:07:02.913677Z",
     "start_time": "2023-03-12T23:07:02.179996Z"
    }
   },
   "outputs": [],
   "source": [
    "import pickle\n",
    "import pandas as pd\n"
   ]
  },
  {
   "cell_type": "code",
   "execution_count": 37,
   "id": "316a72d4",
   "metadata": {
    "ExecuteTime": {
     "end_time": "2023-03-13T20:21:50.050778Z",
     "start_time": "2023-03-13T20:21:49.036982Z"
    }
   },
   "outputs": [],
   "source": [
    "runNum = 9\n",
    "mutations = pickle.load( open(f\"pickles/{runNum}/save_mutations{runNum}-500-fit.p\", \"rb\" ) )\n",
    "#del mutations[\"generation\"]\n",
    "\n",
    "def highlight_cells(val):\n",
    "    color = 'yellow' if val == \"True\" else 'white'\n",
    "    return 'background-color: {}'.format(color)\n",
    "\n",
    "\n",
    "\n",
    "df = pd.DataFrame(data=mutations)\n",
    "df0 = df.style.applymap(highlight_cells)\n",
    "df0.to_excel(f\"pickles/{runNum}/mutation{runNum}-500.xlsx\")"
   ]
  },
  {
   "cell_type": "code",
   "execution_count": 67,
   "id": "c614535d",
   "metadata": {
    "ExecuteTime": {
     "end_time": "2023-03-13T21:14:04.900226Z",
     "start_time": "2023-03-13T21:14:04.896013Z"
    }
   },
   "outputs": [],
   "source": [
    "import pickle\n",
    "from numpy.random import SeedSequence, default_rng\n",
    "import numpy as np\n",
    "from statistics import median,mean\n",
    "from scipy.stats import ttest_ind\n",
    "import pandas as pd\n",
    "from openpyxl import Workbook\n",
    "from openpyxl.utils.dataframe import dataframe_to_rows\n",
    "from openpyxl.styles import Color, PatternFill, Font, Border\n",
    "from openpyxl.styles import colors\n"
   ]
  },
  {
   "cell_type": "code",
   "execution_count": 45,
   "id": "074cfa70",
   "metadata": {
    "ExecuteTime": {
     "end_time": "2023-03-13T20:33:56.500737Z",
     "start_time": "2023-03-13T20:33:56.198813Z"
    }
   },
   "outputs": [
    {
     "name": "stdout",
     "output_type": "stream",
     "text": [
      "Ttest_indResult(statistic=0.03704449429475177, pvalue=0.9705263972150293)\n",
      "Ttest_indResult(statistic=0.3374114248887523, pvalue=0.751261349284721)\n",
      "{1: 6, 2: 6, 3: 1, 4: 9, 5: 6, 6: 8, 7: 0, 8: 2, 9: 9, 10: 9}\n",
      "[-2.2449467519444015, -1.967730920129854, -2.0921642881051614, -2.008242151645833, -2.2429689987402517] [-1.8169852200516174, -2.6383430134013555, -1.4045682535918775, -2.7340384306594774, -2.402804940806637]\n"
     ]
    }
   ],
   "source": [
    "rand_fitness = []\n",
    "rand_best_fit = []\n",
    "seq_fitness = []\n",
    "seq_best_fit = []\n",
    "best_fit_keys = {}\n",
    "runnumberstot = [1,2,3,4,5,6,7,8,9,10]\n",
    "for i, runNum in enumerate(runnumberstot):\n",
    "    parents = pickle.load( open( f\"pickles/{runNum}/save_parents{runNum}-500.p\", \"rb\" ) )\n",
    "    if runNum <= 5:\n",
    "        for j,key in enumerate(parents.keys()):\n",
    "            rand_fitness.append(parents[key].fitness)\n",
    "            if j == 0:\n",
    "                bestfit = parents[key].fitness\n",
    "                bestfitkey = key\n",
    "            if parents[key].fitness < bestfit:\n",
    "                bestfit = parents[key].fitness\n",
    "                bestfitkey = key\n",
    "        rand_best_fit.append(bestfit)\n",
    "    else:\n",
    "        for j,key in enumerate(parents.keys()):\n",
    "            seq_fitness.append(parents[key].fitness)\n",
    "            if j == 0:\n",
    "                bestfit = parents[key].fitness\n",
    "                bestfitkey = key\n",
    "            if parents[key].fitness < bestfit:\n",
    "                bestfit = parents[key].fitness\n",
    "                bestfitkey = key\n",
    "        seq_best_fit.append(bestfit)\n",
    "    best_fit_keys[runNum] = bestfitkey\n",
    "            \n",
    "            \n",
    "print(ttest_ind(a=rand_fitness,b=seq_fitness,equal_var=False))\n",
    "print(ttest_ind(a=rand_best_fit,b=seq_best_fit,equal_var=False))\n",
    "print(best_fit_keys)\n",
    "#print(rand_best_fit,seq_best_fit)"
   ]
  },
  {
   "cell_type": "code",
   "execution_count": 48,
   "id": "ef6960fe",
   "metadata": {
    "ExecuteTime": {
     "end_time": "2023-03-13T20:44:06.081934Z",
     "start_time": "2023-03-13T20:44:05.768518Z"
    }
   },
   "outputs": [],
   "source": [
    "fitness0 = {}\n",
    "\n",
    "for i in range(1,11):\n",
    "    fitness0[i] = []\n",
    "\n",
    "for i, runNum in enumerate(runnumberstot):\n",
    "    parents = pickle.load( open( f\"pickles/{runNum}/save_parents{runNum}-0.p\", \"rb\" ) )\n",
    "    for j,key in enumerate(parents.keys()):\n",
    "        fitness0[i+1].append(parents[key].fitness)\n",
    "        \n",
    "        "
   ]
  },
  {
   "cell_type": "code",
   "execution_count": 102,
   "id": "d084db18",
   "metadata": {
    "ExecuteTime": {
     "end_time": "2023-03-14T03:14:40.331349Z",
     "start_time": "2023-03-14T03:14:40.065168Z"
    }
   },
   "outputs": [
    {
     "data": {
      "text/html": [
       "<div>\n",
       "<style scoped>\n",
       "    .dataframe tbody tr th:only-of-type {\n",
       "        vertical-align: middle;\n",
       "    }\n",
       "\n",
       "    .dataframe tbody tr th {\n",
       "        vertical-align: top;\n",
       "    }\n",
       "\n",
       "    .dataframe thead th {\n",
       "        text-align: right;\n",
       "    }\n",
       "</style>\n",
       "<table border=\"1\" class=\"dataframe\">\n",
       "  <thead>\n",
       "    <tr style=\"text-align: right;\">\n",
       "      <th></th>\n",
       "      <th>generation</th>\n",
       "      <th>9Success</th>\n",
       "      <th>9Type</th>\n",
       "      <th>9Specifics</th>\n",
       "      <th>9Fit</th>\n",
       "      <th>Diff</th>\n",
       "    </tr>\n",
       "  </thead>\n",
       "  <tbody>\n",
       "    <tr>\n",
       "      <th>0</th>\n",
       "      <td>1</td>\n",
       "      <td>True</td>\n",
       "      <td>1</td>\n",
       "      <td>Mutated sensor: 5, Mutated Motor 2, Old: 0.0, ...</td>\n",
       "      <td>0.033037</td>\n",
       "      <td>0.006739</td>\n",
       "    </tr>\n",
       "    <tr>\n",
       "      <th>1</th>\n",
       "      <td>3</td>\n",
       "      <td>True</td>\n",
       "      <td>2</td>\n",
       "      <td>Sensor 021 turned off</td>\n",
       "      <td>0.026481</td>\n",
       "      <td>0.006556</td>\n",
       "    </tr>\n",
       "    <tr>\n",
       "      <th>2</th>\n",
       "      <td>4</td>\n",
       "      <td>True</td>\n",
       "      <td>1</td>\n",
       "      <td>Mutated sensor: 1, Mutated Motor 9, Old: 0.243...</td>\n",
       "      <td>0.019290</td>\n",
       "      <td>0.007191</td>\n",
       "    </tr>\n",
       "    <tr>\n",
       "      <th>3</th>\n",
       "      <td>7</td>\n",
       "      <td>True</td>\n",
       "      <td>2</td>\n",
       "      <td>Sensor 001 turned on</td>\n",
       "      <td>-0.040957</td>\n",
       "      <td>0.060247</td>\n",
       "    </tr>\n",
       "    <tr>\n",
       "      <th>4</th>\n",
       "      <td>8</td>\n",
       "      <td>True</td>\n",
       "      <td>1</td>\n",
       "      <td>Mutated sensor: 3, Mutated Motor 6, Old: 0.848...</td>\n",
       "      <td>-0.060159</td>\n",
       "      <td>0.019203</td>\n",
       "    </tr>\n",
       "    <tr>\n",
       "      <th>5</th>\n",
       "      <td>18</td>\n",
       "      <td>True</td>\n",
       "      <td>2</td>\n",
       "      <td>Sensor 012 turned on</td>\n",
       "      <td>-0.081321</td>\n",
       "      <td>0.021162</td>\n",
       "    </tr>\n",
       "    <tr>\n",
       "      <th>6</th>\n",
       "      <td>27</td>\n",
       "      <td>True</td>\n",
       "      <td>1</td>\n",
       "      <td>Mutated sensor: 3, Mutated Motor 10, Old: 0.0,...</td>\n",
       "      <td>-0.092723</td>\n",
       "      <td>0.011402</td>\n",
       "    </tr>\n",
       "    <tr>\n",
       "      <th>7</th>\n",
       "      <td>29</td>\n",
       "      <td>True</td>\n",
       "      <td>2</td>\n",
       "      <td>Sensor 000 turned on</td>\n",
       "      <td>-0.147564</td>\n",
       "      <td>0.054840</td>\n",
       "    </tr>\n",
       "    <tr>\n",
       "      <th>8</th>\n",
       "      <td>53</td>\n",
       "      <td>True</td>\n",
       "      <td>5</td>\n",
       "      <td>Removed link 031. Changes: []</td>\n",
       "      <td>-0.370566</td>\n",
       "      <td>0.223002</td>\n",
       "    </tr>\n",
       "    <tr>\n",
       "      <th>9</th>\n",
       "      <td>58</td>\n",
       "      <td>True</td>\n",
       "      <td>3</td>\n",
       "      <td>Link 020 added. Parent link 021</td>\n",
       "      <td>-0.579985</td>\n",
       "      <td>0.209420</td>\n",
       "    </tr>\n",
       "    <tr>\n",
       "      <th>10</th>\n",
       "      <td>63</td>\n",
       "      <td>True</td>\n",
       "      <td>5</td>\n",
       "      <td>Removed link 112. Changes: ['Link: 121, Old Pa...</td>\n",
       "      <td>-0.894732</td>\n",
       "      <td>0.314747</td>\n",
       "    </tr>\n",
       "    <tr>\n",
       "      <th>11</th>\n",
       "      <td>64</td>\n",
       "      <td>True</td>\n",
       "      <td>5</td>\n",
       "      <td>Removed link 210. Changes: []</td>\n",
       "      <td>-1.213860</td>\n",
       "      <td>0.319128</td>\n",
       "    </tr>\n",
       "    <tr>\n",
       "      <th>12</th>\n",
       "      <td>81</td>\n",
       "      <td>True</td>\n",
       "      <td>3</td>\n",
       "      <td>Link 022 added. Parent link 121</td>\n",
       "      <td>-1.756527</td>\n",
       "      <td>0.542667</td>\n",
       "    </tr>\n",
       "    <tr>\n",
       "      <th>13</th>\n",
       "      <td>104</td>\n",
       "      <td>True</td>\n",
       "      <td>2</td>\n",
       "      <td>Sensor 002 turned off</td>\n",
       "      <td>-1.791892</td>\n",
       "      <td>0.035365</td>\n",
       "    </tr>\n",
       "    <tr>\n",
       "      <th>14</th>\n",
       "      <td>170</td>\n",
       "      <td>True</td>\n",
       "      <td>3</td>\n",
       "      <td>Link 221 added. Parent link 121</td>\n",
       "      <td>-1.852504</td>\n",
       "      <td>0.060612</td>\n",
       "    </tr>\n",
       "    <tr>\n",
       "      <th>15</th>\n",
       "      <td>202</td>\n",
       "      <td>True</td>\n",
       "      <td>1</td>\n",
       "      <td>Mutated sensor: 5, Mutated Motor 5, Old: 0.936...</td>\n",
       "      <td>-1.910330</td>\n",
       "      <td>0.057826</td>\n",
       "    </tr>\n",
       "    <tr>\n",
       "      <th>16</th>\n",
       "      <td>207</td>\n",
       "      <td>True</td>\n",
       "      <td>1</td>\n",
       "      <td>Mutated sensor: 3, Mutated Motor 9, Old: -0.10...</td>\n",
       "      <td>-2.103977</td>\n",
       "      <td>0.193647</td>\n",
       "    </tr>\n",
       "    <tr>\n",
       "      <th>17</th>\n",
       "      <td>228</td>\n",
       "      <td>True</td>\n",
       "      <td>1</td>\n",
       "      <td>Mutated sensor: 0, Mutated Motor 7, Old: 0.0, ...</td>\n",
       "      <td>-2.287584</td>\n",
       "      <td>0.183607</td>\n",
       "    </tr>\n",
       "    <tr>\n",
       "      <th>18</th>\n",
       "      <td>230</td>\n",
       "      <td>True</td>\n",
       "      <td>1</td>\n",
       "      <td>Mutated sensor: 0, Mutated Motor 8, Old: 0.0, ...</td>\n",
       "      <td>-2.402805</td>\n",
       "      <td>0.115220</td>\n",
       "    </tr>\n",
       "  </tbody>\n",
       "</table>\n",
       "</div>"
      ],
      "text/plain": [
       "    generation 9Success  9Type  \\\n",
       "0            1     True      1   \n",
       "1            3     True      2   \n",
       "2            4     True      1   \n",
       "3            7     True      2   \n",
       "4            8     True      1   \n",
       "5           18     True      2   \n",
       "6           27     True      1   \n",
       "7           29     True      2   \n",
       "8           53     True      5   \n",
       "9           58     True      3   \n",
       "10          63     True      5   \n",
       "11          64     True      5   \n",
       "12          81     True      3   \n",
       "13         104     True      2   \n",
       "14         170     True      3   \n",
       "15         202     True      1   \n",
       "16         207     True      1   \n",
       "17         228     True      1   \n",
       "18         230     True      1   \n",
       "\n",
       "                                           9Specifics      9Fit      Diff  \n",
       "0   Mutated sensor: 5, Mutated Motor 2, Old: 0.0, ...  0.033037  0.006739  \n",
       "1                               Sensor 021 turned off  0.026481  0.006556  \n",
       "2   Mutated sensor: 1, Mutated Motor 9, Old: 0.243...  0.019290  0.007191  \n",
       "3                                Sensor 001 turned on -0.040957  0.060247  \n",
       "4   Mutated sensor: 3, Mutated Motor 6, Old: 0.848... -0.060159  0.019203  \n",
       "5                                Sensor 012 turned on -0.081321  0.021162  \n",
       "6   Mutated sensor: 3, Mutated Motor 10, Old: 0.0,... -0.092723  0.011402  \n",
       "7                                Sensor 000 turned on -0.147564  0.054840  \n",
       "8                       Removed link 031. Changes: [] -0.370566  0.223002  \n",
       "9                     Link 020 added. Parent link 021 -0.579985  0.209420  \n",
       "10  Removed link 112. Changes: ['Link: 121, Old Pa... -0.894732  0.314747  \n",
       "11                      Removed link 210. Changes: [] -1.213860  0.319128  \n",
       "12                    Link 022 added. Parent link 121 -1.756527  0.542667  \n",
       "13                              Sensor 002 turned off -1.791892  0.035365  \n",
       "14                    Link 221 added. Parent link 121 -1.852504  0.060612  \n",
       "15  Mutated sensor: 5, Mutated Motor 5, Old: 0.936... -1.910330  0.057826  \n",
       "16  Mutated sensor: 3, Mutated Motor 9, Old: -0.10... -2.103977  0.193647  \n",
       "17  Mutated sensor: 0, Mutated Motor 7, Old: 0.0, ... -2.287584  0.183607  \n",
       "18  Mutated sensor: 0, Mutated Motor 8, Old: 0.0, ... -2.402805  0.115220  "
      ]
     },
     "execution_count": 102,
     "metadata": {},
     "output_type": "execute_result"
    }
   ],
   "source": [
    "highlight = PatternFill(start_color='00FFFF00',end_color='00FFFF00',fill_type='solid')\n",
    "\n",
    "# def highlight_cells1(val):\n",
    "#     color = 'yellow' if val >0.085 and val < 1 else 'white'\n",
    "#     return 'background-color: {}'.format(color)\n",
    "\n",
    "df = pd.DataFrame(data=mutations)\n",
    "df0 = df.style.applymap(highlight_cells)\n",
    "\n",
    "wb = Workbook()\n",
    "\n",
    "for i, runNum in enumerate(runnumberstot):\n",
    "    mutations = pickle.load( open(f\"pickles/{runNum}/save_mutations{runNum}-500-fit.p\", \"rb\" ) )\n",
    "\n",
    "    bestfitkey = best_fit_keys[runNum]\n",
    "    df = pd.DataFrame(data=mutations)\n",
    "\n",
    "    df0 = df[[\"generation\",f\"{bestfitkey}Success\",f\"{bestfitkey}Type\",f\"{bestfitkey}Specifics\",f\"{bestfitkey}Fit\"]]\n",
    "\n",
    "   \n",
    "    \n",
    "    df1 = df0[df0[f\"{bestfitkey}Success\"]==\"True\"].copy()\n",
    "    \n",
    "    df1['Diff'] = df1[f\"{bestfitkey}Fit\"].diff()*-1\n",
    "    df1 = df1.reset_index(drop=True)\n",
    "\n",
    "    df1.iloc[0,5] = -df1.iloc[0,4] + fitness0[runNum][bestfitkey]\n",
    "    newsheet = f\"{runNum}\"\n",
    "    ws = wb.create_sheet(newsheet)\n",
    "    #df1 = df1.style.applymap(highlight_cells1)\n",
    "    for r in dataframe_to_rows(df1, index=False, header=True):\n",
    "        ws.append(r)\n",
    "    \n",
    "    for i in range(df1.shape[0]):\n",
    "        if df1.iloc[i,5] > 0.1:\n",
    "             ws[f\"F{i+2}\"].fill = highlight\n",
    "    \n",
    "    muts =[1,2,3,4,5]\n",
    "    finalrow = df1.shape[0] + 1\n",
    "    startrow = df1.shape[0] + 3\n",
    "    for i, mut in enumerate(muts):\n",
    "        ws[f\"B{startrow+i}\"] = mut\n",
    "        ws[f\"C{startrow+i}\"] = f\"=COUNTIF(C2:C{finalrow},{mut})\"\n",
    "        \n",
    "    #df1.to_excel(f\"pickles/{runNum}/mutationsTrue{runNum}.xlsx\")\n",
    "wb.save(f\"pickles/mutationsTrue.xlsx\")\n",
    "df1"
   ]
  },
  {
   "cell_type": "code",
   "execution_count": 101,
   "id": "ae48fb69",
   "metadata": {
    "ExecuteTime": {
     "end_time": "2023-03-14T00:35:49.649287Z",
     "start_time": "2023-03-14T00:35:49.608055Z"
    }
   },
   "outputs": [
    {
     "name": "stdout",
     "output_type": "stream",
     "text": [
      "['021', '030', '121', '211', '231', '200', '100', '110', '130', '111']\n"
     ]
    },
    {
     "data": {
      "text/html": [
       "<div>\n",
       "<style scoped>\n",
       "    .dataframe tbody tr th:only-of-type {\n",
       "        vertical-align: middle;\n",
       "    }\n",
       "\n",
       "    .dataframe tbody tr th {\n",
       "        vertical-align: top;\n",
       "    }\n",
       "\n",
       "    .dataframe thead th {\n",
       "        text-align: right;\n",
       "    }\n",
       "</style>\n",
       "<table border=\"1\" class=\"dataframe\">\n",
       "  <thead>\n",
       "    <tr style=\"text-align: right;\">\n",
       "      <th></th>\n",
       "      <th>sensors</th>\n",
       "      <th>021_030</th>\n",
       "      <th>021_121</th>\n",
       "      <th>121_211</th>\n",
       "      <th>121_231</th>\n",
       "      <th>211_200</th>\n",
       "      <th>200_100</th>\n",
       "      <th>121_110</th>\n",
       "      <th>231_130</th>\n",
       "      <th>211_111</th>\n",
       "    </tr>\n",
       "  </thead>\n",
       "  <tbody>\n",
       "    <tr>\n",
       "      <th>0</th>\n",
       "      <td>121</td>\n",
       "      <td>-0.757528</td>\n",
       "      <td>0.046100</td>\n",
       "      <td>0.828861</td>\n",
       "      <td>-0.059637</td>\n",
       "      <td>0.128604</td>\n",
       "      <td>0.970004</td>\n",
       "      <td>0.991255</td>\n",
       "      <td>0.884143</td>\n",
       "      <td>0.993007</td>\n",
       "    </tr>\n",
       "    <tr>\n",
       "      <th>1</th>\n",
       "      <td>211</td>\n",
       "      <td>0.460988</td>\n",
       "      <td>-0.233586</td>\n",
       "      <td>0.000000</td>\n",
       "      <td>0.693181</td>\n",
       "      <td>0.644347</td>\n",
       "      <td>0.000000</td>\n",
       "      <td>0.338606</td>\n",
       "      <td>0.246339</td>\n",
       "      <td>0.079649</td>\n",
       "    </tr>\n",
       "    <tr>\n",
       "      <th>2</th>\n",
       "      <td>231</td>\n",
       "      <td>0.000000</td>\n",
       "      <td>0.000000</td>\n",
       "      <td>-0.703679</td>\n",
       "      <td>0.512753</td>\n",
       "      <td>0.170291</td>\n",
       "      <td>-0.867195</td>\n",
       "      <td>0.391744</td>\n",
       "      <td>-0.616091</td>\n",
       "      <td>-0.771668</td>\n",
       "    </tr>\n",
       "    <tr>\n",
       "      <th>3</th>\n",
       "      <td>100</td>\n",
       "      <td>0.524314</td>\n",
       "      <td>-0.920500</td>\n",
       "      <td>0.000000</td>\n",
       "      <td>0.000000</td>\n",
       "      <td>0.510623</td>\n",
       "      <td>0.922674</td>\n",
       "      <td>-0.306572</td>\n",
       "      <td>-0.873745</td>\n",
       "      <td>-0.490718</td>\n",
       "    </tr>\n",
       "    <tr>\n",
       "      <th>4</th>\n",
       "      <td>130</td>\n",
       "      <td>-0.101668</td>\n",
       "      <td>-0.381264</td>\n",
       "      <td>-0.456760</td>\n",
       "      <td>0.625685</td>\n",
       "      <td>-0.969542</td>\n",
       "      <td>-0.264879</td>\n",
       "      <td>-0.609635</td>\n",
       "      <td>-0.657374</td>\n",
       "      <td>0.031841</td>\n",
       "    </tr>\n",
       "  </tbody>\n",
       "</table>\n",
       "</div>"
      ],
      "text/plain": [
       "  sensors   021_030   021_121   121_211   121_231   211_200   200_100  \\\n",
       "0     121 -0.757528  0.046100  0.828861 -0.059637  0.128604  0.970004   \n",
       "1     211  0.460988 -0.233586  0.000000  0.693181  0.644347  0.000000   \n",
       "2     231  0.000000  0.000000 -0.703679  0.512753  0.170291 -0.867195   \n",
       "3     100  0.524314 -0.920500  0.000000  0.000000  0.510623  0.922674   \n",
       "4     130 -0.101668 -0.381264 -0.456760  0.625685 -0.969542 -0.264879   \n",
       "\n",
       "    121_110   231_130   211_111  \n",
       "0  0.991255  0.884143  0.993007  \n",
       "1  0.338606  0.246339  0.079649  \n",
       "2  0.391744 -0.616091 -0.771668  \n",
       "3 -0.306572 -0.873745 -0.490718  \n",
       "4 -0.609635 -0.657374  0.031841  "
      ]
     },
     "execution_count": 101,
     "metadata": {},
     "output_type": "execute_result"
    }
   ],
   "source": [
    "parents = pickle.load( open( \"pickles/9/save_parents9-458.p\", \"rb\" ) )\n",
    "\n",
    "parent = parents[9]\n",
    "print(parent.namelist)\n",
    "\n",
    "sensorNames = parent.sensorNames\n",
    "numSen = parent.numSensors\n",
    "motorNames = parent.motorJointNames\n",
    "numMot = parent.numMotors\n",
    "weights = parent.weights\n",
    "\n",
    "dict_weights = {}\n",
    "dict_weights[\"sensors\"] = sensorNames\n",
    "for i, motor in enumerate(motorNames):\n",
    "    dict_weights[motor] = []\n",
    "    \n",
    "for i, sensor in enumerate(sensorNames):\n",
    "    for j, motor in enumerate(motorNames):\n",
    "        dict_weights[motor].append(weights[i][j])\n",
    "\n",
    "weightdf = pd.DataFrame(data=dict_weights)        \n",
    "\n",
    "weightdf"
   ]
  },
  {
   "cell_type": "code",
   "execution_count": null,
   "id": "1fa23722",
   "metadata": {},
   "outputs": [],
   "source": []
  },
  {
   "cell_type": "code",
   "execution_count": null,
   "id": "208718a1",
   "metadata": {},
   "outputs": [],
   "source": []
  }
 ],
 "metadata": {
  "kernelspec": {
   "display_name": "Python 3 (ipykernel)",
   "language": "python",
   "name": "python3"
  },
  "language_info": {
   "codemirror_mode": {
    "name": "ipython",
    "version": 3
   },
   "file_extension": ".py",
   "mimetype": "text/x-python",
   "name": "python",
   "nbconvert_exporter": "python",
   "pygments_lexer": "ipython3",
   "version": "3.8.5"
  },
  "varInspector": {
   "cols": {
    "lenName": 16,
    "lenType": 16,
    "lenVar": 40
   },
   "kernels_config": {
    "python": {
     "delete_cmd_postfix": "",
     "delete_cmd_prefix": "del ",
     "library": "var_list.py",
     "varRefreshCmd": "print(var_dic_list())"
    },
    "r": {
     "delete_cmd_postfix": ") ",
     "delete_cmd_prefix": "rm(",
     "library": "var_list.r",
     "varRefreshCmd": "cat(var_dic_list()) "
    }
   },
   "types_to_exclude": [
    "module",
    "function",
    "builtin_function_or_method",
    "instance",
    "_Feature"
   ],
   "window_display": false
  }
 },
 "nbformat": 4,
 "nbformat_minor": 5
}
